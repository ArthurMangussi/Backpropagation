{
 "cells": [
  {
   "cell_type": "markdown",
   "id": "aaaeba9b",
   "metadata": {},
   "source": [
    "### Implementação do Perceptron\n",
    "\n",
    "A função de ativação Heaviside e arquitetura do Perceptron\n",
    "\n",
    "![Not Found](./Figuras/perceptron.png)"
   ]
  },
  {
   "cell_type": "code",
   "execution_count": 1,
   "id": "b67b7d33",
   "metadata": {},
   "outputs": [],
   "source": [
    "import numpy as np \n",
    "\n",
    "def funcao_ativacao(valor):\n",
    "  \"\"\"\"\n",
    "  Função de ativação Heaviside do perceptron\n",
    "  \"\"\"\n",
    "  if valor > 0:\n",
    "    return 1\n",
    "  else:\n",
    "    return 0\n",
    "\n",
    "def fit_perceptron(X,d,learning_rate,max_epochs, pesos_inicial):\n",
    "  \"\"\"\n",
    "  Função que implementa o algoritmo do perceptron\n",
    "  \"\"\"\n",
    "  for epochs in range(max_epochs):\n",
    "    print(f\"Epochs [{epochs}/{max_epochs}]\")\n",
    "    erros = 0\n",
    "\n",
    "    for x, t in zip(X, d):\n",
    "      u = np.dot(pesos_inicial, x)\n",
    "      y = funcao_ativacao(u)\n",
    "      erro = t - y\n",
    "      print(erro)\n",
    "\n",
    "      if erro != 0:\n",
    "        pesos_inicial += learning_rate * erro * np.array(x)\n",
    "        erros += 1\n",
    "\n",
    "    if erros == 0:\n",
    "      break\n",
    "\n",
    "  print(\"Pesos para a entrada\", pesos_inicial)"
   ]
  },
  {
   "cell_type": "code",
   "execution_count": null,
   "id": "ea64b6fc",
   "metadata": {},
   "outputs": [
    {
     "name": "stdout",
     "output_type": "stream",
     "text": [
      "Epochs [0/1]\n",
      "1\n",
      "-1\n",
      "0\n",
      "1\n",
      "Pesos para a entrada [0.5 0.  0.5]\n"
     ]
    }
   ],
   "source": [
    "X = [[1,1,1],\n",
    "    [1,1,0],\n",
    "    [1,0,1],\n",
    "    [1,0,0]]\n",
    "\n",
    "# Operador Lógico SE-ENTÃO\n",
    "d = [1,0,1,1]\n",
    "\n",
    "# Operador Lógico OU\n",
    "# d = [1,1,1,0]\n",
    "\n",
    "# Operador Lógico E\n",
    "# d = [1,0,0,0]\n",
    "\n",
    "pesos_inicial = [0,0,0]\n",
    "learning_rate = 0.5\n",
    "max_epochs = 1\n",
    "\n",
    "fit_perceptron(X,d,learning_rate,max_epochs, pesos_inicial)"
   ]
  },
  {
   "cell_type": "code",
   "execution_count": null,
   "id": "e0ff518d",
   "metadata": {},
   "outputs": [],
   "source": []
  }
 ],
 "metadata": {
  "kernelspec": {
   "display_name": "Python 3",
   "language": "python",
   "name": "python3"
  },
  "language_info": {
   "codemirror_mode": {
    "name": "ipython",
    "version": 3
   },
   "file_extension": ".py",
   "mimetype": "text/x-python",
   "name": "python",
   "nbconvert_exporter": "python",
   "pygments_lexer": "ipython3",
   "version": "3.11.9"
  }
 },
 "nbformat": 4,
 "nbformat_minor": 5
}
